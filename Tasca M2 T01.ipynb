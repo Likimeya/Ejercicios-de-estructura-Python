{
 "cells": [
  {
   "cell_type": "markdown",
   "id": "79071407",
   "metadata": {},
   "source": [
    "## Exercici 1\n",
    "**Crea una llista que agrupi els mesos de l’any en trimestres (1T: gener, febrer i març; 2T: abril, maig,\n",
    "juny...), és a dir, una llista amb 4 llistes dins.**"
   ]
  },
  {
   "cell_type": "code",
   "execution_count": 1,
   "id": "44afe9df",
   "metadata": {},
   "outputs": [
    {
     "ename": "SyntaxError",
     "evalue": "invalid syntax (4156073399.py, line 1)",
     "output_type": "error",
     "traceback": [
      "\u001b[1;36m  File \u001b[1;32m\"C:\\Users\\TAIDA\\AppData\\Local\\Temp\\ipykernel_2196\\4156073399.py\"\u001b[1;36m, line \u001b[1;32m1\u001b[0m\n\u001b[1;33m    1T = ['gener', 'febrer', 'març']\u001b[0m\n\u001b[1;37m     ^\u001b[0m\n\u001b[1;31mSyntaxError\u001b[0m\u001b[1;31m:\u001b[0m invalid syntax\n"
     ]
    }
   ],
   "source": [
    "1T = ['gener', 'febrer', 'març']\n",
    "2T = ['abril','maig','juny']\n",
    "3T = ['agost','juliol','setembre']\n",
    "4T = ['octubre','novembre','desembre']\n",
    "lista_any = ['1T','2T','3T','4T']\n",
    "print(lista_any)"
   ]
  },
  {
   "cell_type": "code",
   "execution_count": 2,
   "id": "97beb620",
   "metadata": {},
   "outputs": [
    {
     "name": "stdout",
     "output_type": "stream",
     "text": [
      "['1T', '2T', '3T', '4T']\n"
     ]
    }
   ],
   "source": [
    "lista_any = ['1T','2T','3T','4T']\n",
    "print(lista_any)"
   ]
  },
  {
   "cell_type": "markdown",
   "id": "b01d4ad9",
   "metadata": {},
   "source": [
    "Bones Laia!, he intentat fer-ho així, però no em surt, i curiosament provant de fer-ho canviar el tipus de dades\n",
    "ho he aconseguit."
   ]
  },
  {
   "cell_type": "code",
   "execution_count": 3,
   "id": "3ef3ad2d",
   "metadata": {},
   "outputs": [
    {
     "name": "stdout",
     "output_type": "stream",
     "text": [
      "[['gener', 'febrer', 'març'], ['abril', 'maig', 'juny'], ['agost', 'juliol', 'setembre'], ['octubre', 'novembre', 'desembre']]\n"
     ]
    }
   ],
   "source": [
    "primer_trimestre = ['gener', 'febrer', 'març']\n",
    "segon_trimestre = ['abril','maig','juny']\n",
    "tercer_trimestre = ['agost','juliol','setembre']\n",
    "quart_trimestre = ['octubre','novembre','desembre']\n",
    "llista_any = [primer_trimestre, segon_trimestre, tercer_trimestre, quart_trimestre]\n",
    "print(llista_any)"
   ]
  },
  {
   "cell_type": "markdown",
   "id": "a7ca624c",
   "metadata": {},
   "source": [
    "## Exercici 2\n",
    "**Crea un codi que et permeti accedir a:**\n",
    ">El segon mes del primer trimestre.\n",
    "\n",
    ">Els mesos del primer trimestre.\n",
    "\n",
    ">Setembre i octubre."
   ]
  },
  {
   "cell_type": "code",
   "execution_count": 4,
   "id": "8f92674c",
   "metadata": {},
   "outputs": [
    {
     "data": {
      "text/plain": [
       "'febrer'"
      ]
     },
     "execution_count": 4,
     "metadata": {},
     "output_type": "execute_result"
    }
   ],
   "source": [
    "# El segon mes del primer trimestre\n",
    "primer_trimestre[1]"
   ]
  },
  {
   "cell_type": "code",
   "execution_count": 5,
   "id": "30d424ad",
   "metadata": {},
   "outputs": [
    {
     "data": {
      "text/plain": [
       "['gener', 'febrer', 'març']"
      ]
     },
     "execution_count": 5,
     "metadata": {},
     "output_type": "execute_result"
    }
   ],
   "source": [
    "# Els mesos del primer trimestre\n",
    "llista_any[0]"
   ]
  },
  {
   "cell_type": "code",
   "execution_count": 6,
   "id": "5acdc9c9",
   "metadata": {},
   "outputs": [
    {
     "data": {
      "text/plain": [
       "'octubre'"
      ]
     },
     "execution_count": 6,
     "metadata": {},
     "output_type": "execute_result"
    }
   ],
   "source": [
    "# Setembre i octubre.\n",
    "quart_trimestre[0]"
   ]
  },
  {
   "cell_type": "code",
   "execution_count": 7,
   "id": "44cd2190",
   "metadata": {},
   "outputs": [
    {
     "data": {
      "text/plain": [
       "'setembre'"
      ]
     },
     "execution_count": 7,
     "metadata": {},
     "output_type": "execute_result"
    }
   ],
   "source": [
    "tercer_trimestre[2]"
   ]
  },
  {
   "cell_type": "markdown",
   "id": "d9090845",
   "metadata": {},
   "source": [
    "## Exercici 3\n",
    "**Crea una llista amb nombres desordenats i respon a les següents preguntes:**\n",
    ">Quants números hi ha?\n",
    "\n",
    ">Quantes vegades apareix el número 3.\n",
    "\n",
    ">Quantes vegades apareixen els nombres 3 i 4?\n",
    "\n",
    ">Quin és el número més gran?\n",
    "\n",
    ">Quins són els 3 números més petits?\n",
    "\n",
    ">Quin és el rang d’aquesta llista?"
   ]
  },
  {
   "cell_type": "code",
   "execution_count": 8,
   "id": "b9dcd937",
   "metadata": {},
   "outputs": [
    {
     "name": "stdout",
     "output_type": "stream",
     "text": [
      "[25, 15, 51, 52, 30, 8, 38, 28, 35, 36, 21, 6, 49, 61, 41, 29, 39, 42, 33, 53, 59, 14, 32, 46, 48, 27, 18, 40, 44, 45, 31, 4, 60, 12, 26, 24, 0, 17, 16, 47, 23, 43, 3, 57, 19, 1, 20, 58, 37, 9]\n"
     ]
    }
   ],
   "source": [
    "import random\n",
    "lista = random.sample(range(62), 50)\n",
    "print(lista)"
   ]
  },
  {
   "cell_type": "code",
   "execution_count": 9,
   "id": "f74036d2",
   "metadata": {},
   "outputs": [
    {
     "data": {
      "text/plain": [
       "50"
      ]
     },
     "execution_count": 9,
     "metadata": {},
     "output_type": "execute_result"
    }
   ],
   "source": [
    "# Quants números hi ha?\n",
    "len(lista)"
   ]
  },
  {
   "cell_type": "code",
   "execution_count": 10,
   "id": "1c00555f",
   "metadata": {},
   "outputs": [
    {
     "data": {
      "text/plain": [
       "1"
      ]
     },
     "execution_count": 10,
     "metadata": {},
     "output_type": "execute_result"
    }
   ],
   "source": [
    "# Quantes vegades apareix el número 3.\n",
    "lista.count(3)"
   ]
  },
  {
   "cell_type": "code",
   "execution_count": 11,
   "id": "a821ea0b",
   "metadata": {},
   "outputs": [
    {
     "data": {
      "text/plain": [
       "1"
      ]
     },
     "execution_count": 11,
     "metadata": {},
     "output_type": "execute_result"
    }
   ],
   "source": [
    "# Quantes vegades apareixen els nombres 3 i 4?\n",
    "lista.count(4)"
   ]
  },
  {
   "cell_type": "code",
   "execution_count": 12,
   "id": "a03c6129",
   "metadata": {},
   "outputs": [
    {
     "name": "stdout",
     "output_type": "stream",
     "text": [
      "61\n"
     ]
    }
   ],
   "source": [
    "# Quin és el número més gran?\n",
    "gran = max(lista)\n",
    "print(gran)"
   ]
  },
  {
   "cell_type": "code",
   "execution_count": 13,
   "id": "82446849",
   "metadata": {},
   "outputs": [
    {
     "name": "stdout",
     "output_type": "stream",
     "text": [
      "[0, 1, 3]\n"
     ]
    }
   ],
   "source": [
    "# Quins són els 3 números més petits?\n",
    "import heapq\n",
    "petits = heapq.nsmallest(3, lista)\n",
    "print(petits)"
   ]
  },
  {
   "cell_type": "code",
   "execution_count": null,
   "id": "e778ca3f",
   "metadata": {},
   "outputs": [],
   "source": [
    "# Quin és el rang d’aquesta llista?\n",
    "del 0 al 61"
   ]
  },
  {
   "cell_type": "markdown",
   "id": "36aeb96b",
   "metadata": {},
   "source": [
    "## Exercici 4\n",
    "**Crea un diccionari de la següent forma i respon a les preguntes:**\n",
    "compra = { \"Pomes\" : {\"Qty\": 5, \"€\": 0.42}, \"Peres\" : {\"Qty\": 3, \"€\": 0.66} }\n",
    "\n",
    ">Afegeix alguna fruita més\n",
    "\n",
    ">Quant han costat les peres en total?\n",
    "\n",
    ">Quantes fruites hem comprat en total?\n",
    "\n",
    ">Quina és la fruita més cara?"
   ]
  },
  {
   "cell_type": "code",
   "execution_count": 14,
   "id": "11eaca4e",
   "metadata": {},
   "outputs": [
    {
     "name": "stdout",
     "output_type": "stream",
     "text": [
      "{'Pomes': {'Qty': 5, '€': 0.42}, 'Peres': {'Qty': 3, '€': 0.66}}\n"
     ]
    }
   ],
   "source": [
    "dic_compra = { \"Pomes\" : {\"Qty\": 5, \"€\": 0.42}, \"Peres\" : {\"Qty\": 3, \"€\": 0.66} }\n",
    "print(dic_compra)"
   ]
  },
  {
   "cell_type": "code",
   "execution_count": 15,
   "id": "bac1f755",
   "metadata": {},
   "outputs": [
    {
     "name": "stdout",
     "output_type": "stream",
     "text": [
      "{'Pomes': {'Qty': 5, '€': 0.42}, 'Peres': {'Qty': 3, '€': 0.66}, 'Bananas': {'Qty': 8, '€': 0.78}}\n"
     ]
    }
   ],
   "source": [
    "# Afegeix alguna fruita més\n",
    "dic_compra['Bananas'] = {\"Qty\": 8, \"€\": 0.78}\n",
    "print(dic_compra)"
   ]
  },
  {
   "cell_type": "code",
   "execution_count": 16,
   "id": "cfb32813",
   "metadata": {},
   "outputs": [
    {
     "name": "stdout",
     "output_type": "stream",
     "text": [
      "1.98\n"
     ]
    }
   ],
   "source": [
    "# Quant han costat les peres en total?\n",
    "multiplicar = 3*0.66\n",
    "print (multiplicar)"
   ]
  },
  {
   "cell_type": "code",
   "execution_count": 17,
   "id": "0f7427fd",
   "metadata": {},
   "outputs": [
    {
     "data": {
      "text/plain": [
       "1.98"
      ]
     },
     "execution_count": 17,
     "metadata": {},
     "output_type": "execute_result"
    }
   ],
   "source": [
    "dic_compra['Peres'][\"Qty\"] * dic_compra['Peres'][\"€\"]"
   ]
  },
  {
   "cell_type": "code",
   "execution_count": 18,
   "id": "b9c322ec",
   "metadata": {},
   "outputs": [
    {
     "data": {
      "text/plain": [
       "1.86"
      ]
     },
     "execution_count": 18,
     "metadata": {},
     "output_type": "execute_result"
    }
   ],
   "source": [
    "# Quantes fruites hem comprat en total?\n",
    "dic_compra['Pomes'][\"€\"] + dic_compra['Peres'][\"€\"] + dic_compra['Bananas'][\"€\"]"
   ]
  },
  {
   "cell_type": "code",
   "execution_count": 19,
   "id": "3aebb040",
   "metadata": {},
   "outputs": [
    {
     "ename": "IndentationError",
     "evalue": "unexpected indent (4117836279.py, line 2)",
     "output_type": "error",
     "traceback": [
      "\u001b[1;36m  File \u001b[1;32m\"C:\\Users\\TAIDA\\AppData\\Local\\Temp\\ipykernel_2196\\4117836279.py\"\u001b[1;36m, line \u001b[1;32m2\u001b[0m\n\u001b[1;33m    max(dic_compra[\"€\"])\u001b[0m\n\u001b[1;37m    ^\u001b[0m\n\u001b[1;31mIndentationError\u001b[0m\u001b[1;31m:\u001b[0m unexpected indent\n"
     ]
    }
   ],
   "source": [
    "# Quina és la fruita més cara?\n",
    " max(dic_compra[\"€\"])"
   ]
  },
  {
   "cell_type": "markdown",
   "id": "5fe9c285",
   "metadata": {},
   "source": [
    "he provat de fer-ho de vàries formes, però no aconsegueixo"
   ]
  },
  {
   "cell_type": "code",
   "execution_count": null,
   "id": "7859cb44",
   "metadata": {},
   "outputs": [],
   "source": []
  }
 ],
 "metadata": {
  "kernelspec": {
   "display_name": "base",
   "language": "python",
   "name": "python3"
  },
  "language_info": {
   "codemirror_mode": {
    "name": "ipython",
    "version": 3
   },
   "file_extension": ".py",
   "mimetype": "text/x-python",
   "name": "python",
   "nbconvert_exporter": "python",
   "pygments_lexer": "ipython3",
   "version": "3.9.13 (main, Aug 25 2022, 23:51:50) [MSC v.1916 64 bit (AMD64)]"
  },
  "vscode": {
   "interpreter": {
    "hash": "98f172cbe11f19defcf71bc46ba7f3d93366c790b3b32f3e2400b1570ea5e57d"
   }
  }
 },
 "nbformat": 4,
 "nbformat_minor": 5
}
